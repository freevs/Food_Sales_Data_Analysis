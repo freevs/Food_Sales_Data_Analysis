{
 "cells": [
  {
   "cell_type": "code",
   "execution_count": 1,
   "id": "924030d2",
   "metadata": {},
   "outputs": [],
   "source": [
    "import pandas as pd\n",
    "import seaborn as sns\n",
    "import numpy as np\n",
    "import matplotlib.pyplot as plt\n",
    "\n",
    "plt.style.use('fivethirtyeight')\n",
    "\n",
    "%matplotlib inline"
   ]
  },
  {
   "cell_type": "markdown",
   "id": "6b486a3d",
   "metadata": {},
   "source": [
    "### Read the file "
   ]
  },
  {
   "cell_type": "code",
   "execution_count": 2,
   "id": "a237e490",
   "metadata": {},
   "outputs": [
    {
     "data": {
      "text/html": [
       "<div>\n",
       "<style scoped>\n",
       "    .dataframe tbody tr th:only-of-type {\n",
       "        vertical-align: middle;\n",
       "    }\n",
       "\n",
       "    .dataframe tbody tr th {\n",
       "        vertical-align: top;\n",
       "    }\n",
       "\n",
       "    .dataframe thead th {\n",
       "        text-align: right;\n",
       "    }\n",
       "</style>\n",
       "<table border=\"1\" class=\"dataframe\">\n",
       "  <thead>\n",
       "    <tr style=\"text-align: right;\">\n",
       "      <th></th>\n",
       "      <th>CustKey</th>\n",
       "      <th>DateKey</th>\n",
       "      <th>Discount Amount</th>\n",
       "      <th>Invoice Date</th>\n",
       "      <th>Invoice Number</th>\n",
       "      <th>Item Class</th>\n",
       "      <th>Item Number</th>\n",
       "      <th>Item</th>\n",
       "      <th>Line Number</th>\n",
       "      <th>List Price</th>\n",
       "      <th>...</th>\n",
       "      <th>Sales Amount</th>\n",
       "      <th>Sales Amount Based on List Price</th>\n",
       "      <th>Sales Cost Amount</th>\n",
       "      <th>Sales Margin Amount</th>\n",
       "      <th>Sales Price</th>\n",
       "      <th>Sales Quantity</th>\n",
       "      <th>Sales Rep</th>\n",
       "      <th>U/M</th>\n",
       "      <th>Unnamed: 20</th>\n",
       "      <th>Unnamed: 21</th>\n",
       "    </tr>\n",
       "  </thead>\n",
       "  <tbody>\n",
       "    <tr>\n",
       "      <th>0</th>\n",
       "      <td>10000481</td>\n",
       "      <td>2017-04-30</td>\n",
       "      <td>-237.91</td>\n",
       "      <td>2017-04-30</td>\n",
       "      <td>100012</td>\n",
       "      <td>NaN</td>\n",
       "      <td>NaN</td>\n",
       "      <td>Urban Large Eggs</td>\n",
       "      <td>2000</td>\n",
       "      <td>0.00</td>\n",
       "      <td>...</td>\n",
       "      <td>237.91</td>\n",
       "      <td>0.00</td>\n",
       "      <td>0.0</td>\n",
       "      <td>237.91</td>\n",
       "      <td>237.910000</td>\n",
       "      <td>1</td>\n",
       "      <td>184</td>\n",
       "      <td>EA</td>\n",
       "      <td>NaN</td>\n",
       "      <td>U/M = unit of measure</td>\n",
       "    </tr>\n",
       "    <tr>\n",
       "      <th>1</th>\n",
       "      <td>10002220</td>\n",
       "      <td>2017-07-14</td>\n",
       "      <td>368.79</td>\n",
       "      <td>2017-07-14</td>\n",
       "      <td>100233</td>\n",
       "      <td>P01</td>\n",
       "      <td>20910</td>\n",
       "      <td>Moms Sliced Turkey</td>\n",
       "      <td>1000</td>\n",
       "      <td>824.96</td>\n",
       "      <td>...</td>\n",
       "      <td>456.17</td>\n",
       "      <td>824.96</td>\n",
       "      <td>0.0</td>\n",
       "      <td>456.17</td>\n",
       "      <td>456.170000</td>\n",
       "      <td>1</td>\n",
       "      <td>127</td>\n",
       "      <td>EA</td>\n",
       "      <td>NaN</td>\n",
       "      <td>NaN</td>\n",
       "    </tr>\n",
       "    <tr>\n",
       "      <th>2</th>\n",
       "      <td>10002220</td>\n",
       "      <td>2017-10-17</td>\n",
       "      <td>109.73</td>\n",
       "      <td>2017-10-17</td>\n",
       "      <td>116165</td>\n",
       "      <td>P01</td>\n",
       "      <td>38076</td>\n",
       "      <td>Cutting Edge Foot-Long Hot Dogs</td>\n",
       "      <td>1000</td>\n",
       "      <td>548.66</td>\n",
       "      <td>...</td>\n",
       "      <td>438.93</td>\n",
       "      <td>548.66</td>\n",
       "      <td>0.0</td>\n",
       "      <td>438.93</td>\n",
       "      <td>438.930000</td>\n",
       "      <td>1</td>\n",
       "      <td>127</td>\n",
       "      <td>EA</td>\n",
       "      <td>NaN</td>\n",
       "      <td>EA = each</td>\n",
       "    </tr>\n",
       "    <tr>\n",
       "      <th>3</th>\n",
       "      <td>10002489</td>\n",
       "      <td>2017-06-03</td>\n",
       "      <td>-211.75</td>\n",
       "      <td>2017-06-03</td>\n",
       "      <td>100096</td>\n",
       "      <td>NaN</td>\n",
       "      <td>NaN</td>\n",
       "      <td>Kiwi Lox</td>\n",
       "      <td>1000</td>\n",
       "      <td>0.00</td>\n",
       "      <td>...</td>\n",
       "      <td>211.75</td>\n",
       "      <td>0.00</td>\n",
       "      <td>0.0</td>\n",
       "      <td>211.75</td>\n",
       "      <td>211.750000</td>\n",
       "      <td>1</td>\n",
       "      <td>160</td>\n",
       "      <td>EA</td>\n",
       "      <td>NaN</td>\n",
       "      <td>NaN</td>\n",
       "    </tr>\n",
       "    <tr>\n",
       "      <th>4</th>\n",
       "      <td>10004516</td>\n",
       "      <td>2017-05-27</td>\n",
       "      <td>96627.94</td>\n",
       "      <td>2017-05-27</td>\n",
       "      <td>103341</td>\n",
       "      <td>P01</td>\n",
       "      <td>60776</td>\n",
       "      <td>High Top Sweet Onion</td>\n",
       "      <td>1000</td>\n",
       "      <td>408.52</td>\n",
       "      <td>...</td>\n",
       "      <td>89248.66</td>\n",
       "      <td>185876.60</td>\n",
       "      <td>0.0</td>\n",
       "      <td>89248.66</td>\n",
       "      <td>196.150901</td>\n",
       "      <td>455</td>\n",
       "      <td>124</td>\n",
       "      <td>SE</td>\n",
       "      <td>NaN</td>\n",
       "      <td>SE = some SI unit like kgs or gallons</td>\n",
       "    </tr>\n",
       "  </tbody>\n",
       "</table>\n",
       "<p>5 rows × 22 columns</p>\n",
       "</div>"
      ],
      "text/plain": [
       "    CustKey    DateKey  Discount Amount Invoice Date  Invoice Number  \\\n",
       "0  10000481 2017-04-30          -237.91   2017-04-30          100012   \n",
       "1  10002220 2017-07-14           368.79   2017-07-14          100233   \n",
       "2  10002220 2017-10-17           109.73   2017-10-17          116165   \n",
       "3  10002489 2017-06-03          -211.75   2017-06-03          100096   \n",
       "4  10004516 2017-05-27         96627.94   2017-05-27          103341   \n",
       "\n",
       "  Item Class Item Number                             Item  Line Number  \\\n",
       "0        NaN         NaN                 Urban Large Eggs         2000   \n",
       "1        P01       20910               Moms Sliced Turkey         1000   \n",
       "2        P01       38076  Cutting Edge Foot-Long Hot Dogs         1000   \n",
       "3        NaN         NaN                         Kiwi Lox         1000   \n",
       "4        P01       60776             High Top Sweet Onion         1000   \n",
       "\n",
       "   List Price  ...  Sales Amount Sales Amount Based on List Price  \\\n",
       "0        0.00  ...        237.91                             0.00   \n",
       "1      824.96  ...        456.17                           824.96   \n",
       "2      548.66  ...        438.93                           548.66   \n",
       "3        0.00  ...        211.75                             0.00   \n",
       "4      408.52  ...      89248.66                        185876.60   \n",
       "\n",
       "   Sales Cost Amount  Sales Margin Amount  Sales Price  Sales Quantity  \\\n",
       "0                0.0               237.91   237.910000               1   \n",
       "1                0.0               456.17   456.170000               1   \n",
       "2                0.0               438.93   438.930000               1   \n",
       "3                0.0               211.75   211.750000               1   \n",
       "4                0.0             89248.66   196.150901             455   \n",
       "\n",
       "   Sales Rep  U/M  Unnamed: 20                            Unnamed: 21  \n",
       "0        184   EA          NaN                  U/M = unit of measure  \n",
       "1        127   EA          NaN                                    NaN  \n",
       "2        127   EA          NaN                              EA = each  \n",
       "3        160   EA          NaN                                    NaN  \n",
       "4        124   SE          NaN  SE = some SI unit like kgs or gallons  \n",
       "\n",
       "[5 rows x 22 columns]"
      ]
     },
     "execution_count": 2,
     "metadata": {},
     "output_type": "execute_result"
    }
   ],
   "source": [
    "df=pd.read_excel(\"SALESDATA.xls\")\n",
    "df.head(5)"
   ]
  },
  {
   "cell_type": "markdown",
   "id": "2b78fbeb",
   "metadata": {},
   "source": [
    "#### Calling Calling info() on our dataset tells us tons of information about our data frame like the data type of our features, and the memory usage."
   ]
  },
  {
   "cell_type": "code",
   "execution_count": 3,
   "id": "c2c4f30d",
   "metadata": {},
   "outputs": [
    {
     "name": "stdout",
     "output_type": "stream",
     "text": [
      "<class 'pandas.core.frame.DataFrame'>\n",
      "RangeIndex: 65282 entries, 0 to 65281\n",
      "Data columns (total 22 columns):\n",
      " #   Column                            Non-Null Count  Dtype         \n",
      "---  ------                            --------------  -----         \n",
      " 0   CustKey                           65282 non-null  int64         \n",
      " 1   DateKey                           65282 non-null  datetime64[ns]\n",
      " 2   Discount Amount                   65280 non-null  float64       \n",
      " 3   Invoice Date                      65282 non-null  datetime64[ns]\n",
      " 4   Invoice Number                    65282 non-null  int64         \n",
      " 5   Item Class                        56993 non-null  object        \n",
      " 6   Item Number                       65241 non-null  object        \n",
      " 7   Item                              65282 non-null  object        \n",
      " 8   Line Number                       65282 non-null  int64         \n",
      " 9   List Price                        65282 non-null  float64       \n",
      " 10  Order Number                      65282 non-null  int64         \n",
      " 11  Promised Delivery Date            65282 non-null  datetime64[ns]\n",
      " 12  Sales Amount                      65282 non-null  float64       \n",
      " 13  Sales Amount Based on List Price  65282 non-null  float64       \n",
      " 14  Sales Cost Amount                 65282 non-null  float64       \n",
      " 15  Sales Margin Amount               65282 non-null  float64       \n",
      " 16  Sales Price                       65281 non-null  float64       \n",
      " 17  Sales Quantity                    65282 non-null  int64         \n",
      " 18  Sales Rep                         65282 non-null  int64         \n",
      " 19  U/M                               65282 non-null  object        \n",
      " 20  Unnamed: 20                       0 non-null      float64       \n",
      " 21  Unnamed: 21                       4 non-null      object        \n",
      "dtypes: datetime64[ns](3), float64(8), int64(6), object(5)\n",
      "memory usage: 11.0+ MB\n"
     ]
    }
   ],
   "source": [
    "df.info()"
   ]
  },
  {
   "cell_type": "markdown",
   "id": "bc418766",
   "metadata": {},
   "source": [
    "## Seperating features into categorical and numerical"
   ]
  },
  {
   "cell_type": "code",
   "execution_count": 4,
   "id": "95ce89c1",
   "metadata": {},
   "outputs": [
    {
     "name": "stdout",
     "output_type": "stream",
     "text": [
      "Non-Numeric columns:\n",
      "Item Class\n",
      "Item Number\n",
      "Item\n",
      "U/M\n",
      "Unnamed: 21\n",
      "\n",
      "Numeric columns:\n",
      "CustKey\n",
      "DateKey\n",
      "Discount Amount\n",
      "Invoice Date\n",
      "Invoice Number\n",
      "Line Number\n",
      "List Price\n",
      "Order Number\n",
      "Promised Delivery Date\n",
      "Sales Amount\n",
      "Sales Amount Based on List Price\n",
      "Sales Cost Amount\n",
      "Sales Margin Amount\n",
      "Sales Price\n",
      "Sales Quantity\n",
      "Sales Rep\n",
      "Unnamed: 20\n"
     ]
    }
   ],
   "source": [
    "cat_df = df.select_dtypes(include=['object'])\n",
    "num_df = df.select_dtypes(exclude=['object'])\n",
    "\n",
    "def printColumnTypes(non_numeric_df, numeric_df):\n",
    "    '''separates non-numeric and numeric columns'''\n",
    "    print(\"Non-Numeric columns:\")\n",
    "    for col in non_numeric_df:\n",
    "        print(f\"{col}\")\n",
    "    print(\"\")\n",
    "    print(\"Numeric columns:\")\n",
    "    for col in numeric_df:\n",
    "        print(f\"{col}\")\n",
    "        \n",
    "printColumnTypes(cat_df, num_df)"
   ]
  },
  {
   "cell_type": "markdown",
   "id": "af2fd084",
   "metadata": {},
   "source": [
    "# Clean the Data!\n",
    "## Columns with missing values\n",
    "### The two common methods to deal with missing values are \n",
    "#### 1. Dropping the rows / columns \n",
    "#### 2. Imputing them based on other observations i.e. the mean or median"
   ]
  },
  {
   "cell_type": "code",
   "execution_count": 5,
   "id": "474cea25",
   "metadata": {},
   "outputs": [
    {
     "data": {
      "text/plain": [
       "CustKey                                 0\n",
       "DateKey                                 0\n",
       "Discount Amount                         2\n",
       "Invoice Date                            0\n",
       "Invoice Number                          0\n",
       "Item Class                           8289\n",
       "Item Number                            41\n",
       "Item                                    0\n",
       "Line Number                             0\n",
       "List Price                              0\n",
       "Order Number                            0\n",
       "Promised Delivery Date                  0\n",
       "Sales Amount                            0\n",
       "Sales Amount Based on List Price        0\n",
       "Sales Cost Amount                       0\n",
       "Sales Margin Amount                     0\n",
       "Sales Price                             1\n",
       "Sales Quantity                          0\n",
       "Sales Rep                               0\n",
       "U/M                                     0\n",
       "Unnamed: 20                         65282\n",
       "Unnamed: 21                         65278\n",
       "dtype: int64"
      ]
     },
     "execution_count": 5,
     "metadata": {},
     "output_type": "execute_result"
    }
   ],
   "source": [
    "df.isnull().sum()"
   ]
  },
  {
   "cell_type": "markdown",
   "id": "fa2efdd6",
   "metadata": {},
   "source": [
    "#### Since Item Number and Item Class are not necessarily affecting the Profit or Sales Price we can ignore it."
   ]
  },
  {
   "cell_type": "markdown",
   "id": "7e2d52a8",
   "metadata": {},
   "source": [
    "#### The Sales price column has one null value; With this method, we impute the missing values with the mean"
   ]
  },
  {
   "cell_type": "code",
   "execution_count": 6,
   "id": "be031300",
   "metadata": {},
   "outputs": [],
   "source": [
    "price_mean_value = round(df['Sales Price'].mean(), 2)\n",
    "df['Sales Price'].fillna(price_mean_value, inplace=True)"
   ]
  },
  {
   "cell_type": "markdown",
   "id": "4269dfb8",
   "metadata": {},
   "source": [
    "#### There are two null values in discount amount col; we can replace this with 0"
   ]
  },
  {
   "cell_type": "code",
   "execution_count": 7,
   "id": "734460e7",
   "metadata": {},
   "outputs": [],
   "source": [
    "df.fillna({'Discount Amount':0}, inplace=True)"
   ]
  },
  {
   "cell_type": "markdown",
   "id": "d1a323e4",
   "metadata": {},
   "source": [
    "#### Checking if DateKey and Invoice Date Col are identical"
   ]
  },
  {
   "cell_type": "code",
   "execution_count": 8,
   "id": "76ec36f7",
   "metadata": {},
   "outputs": [
    {
     "data": {
      "text/plain": [
       "True"
      ]
     },
     "execution_count": 8,
     "metadata": {},
     "output_type": "execute_result"
    }
   ],
   "source": [
    "df['DateKey'].equals(df['Invoice Date'])"
   ]
  },
  {
   "cell_type": "markdown",
   "id": "31bf02d8",
   "metadata": {},
   "source": [
    "#### Drop all unecessary Cols"
   ]
  },
  {
   "cell_type": "code",
   "execution_count": 9,
   "id": "787685cc",
   "metadata": {},
   "outputs": [],
   "source": [
    "colsToDrop = ['DateKey', 'Item Class', 'Item Number', 'U/M', 'Unnamed: 20', 'Unnamed: 21']\n",
    "\n",
    "df.drop(colsToDrop, axis=1, inplace=True)"
   ]
  },
  {
   "cell_type": "code",
   "execution_count": 10,
   "id": "814d18fd",
   "metadata": {},
   "outputs": [
    {
     "data": {
      "text/html": [
       "<div>\n",
       "<style scoped>\n",
       "    .dataframe tbody tr th:only-of-type {\n",
       "        vertical-align: middle;\n",
       "    }\n",
       "\n",
       "    .dataframe tbody tr th {\n",
       "        vertical-align: top;\n",
       "    }\n",
       "\n",
       "    .dataframe thead th {\n",
       "        text-align: right;\n",
       "    }\n",
       "</style>\n",
       "<table border=\"1\" class=\"dataframe\">\n",
       "  <thead>\n",
       "    <tr style=\"text-align: right;\">\n",
       "      <th></th>\n",
       "      <th>CustKey</th>\n",
       "      <th>Discount Amount</th>\n",
       "      <th>Invoice Date</th>\n",
       "      <th>Invoice Number</th>\n",
       "      <th>Item</th>\n",
       "      <th>Line Number</th>\n",
       "      <th>List Price</th>\n",
       "      <th>Order Number</th>\n",
       "      <th>Promised Delivery Date</th>\n",
       "      <th>Sales Amount</th>\n",
       "      <th>Sales Amount Based on List Price</th>\n",
       "      <th>Sales Cost Amount</th>\n",
       "      <th>Sales Margin Amount</th>\n",
       "      <th>Sales Price</th>\n",
       "      <th>Sales Quantity</th>\n",
       "      <th>Sales Rep</th>\n",
       "    </tr>\n",
       "  </thead>\n",
       "  <tbody>\n",
       "    <tr>\n",
       "      <th>0</th>\n",
       "      <td>10000481</td>\n",
       "      <td>-237.91</td>\n",
       "      <td>2017-04-30</td>\n",
       "      <td>100012</td>\n",
       "      <td>Urban Large Eggs</td>\n",
       "      <td>2000</td>\n",
       "      <td>0.00</td>\n",
       "      <td>200015</td>\n",
       "      <td>2017-04-30</td>\n",
       "      <td>237.91</td>\n",
       "      <td>0.00</td>\n",
       "      <td>0.0</td>\n",
       "      <td>237.91</td>\n",
       "      <td>237.910000</td>\n",
       "      <td>1</td>\n",
       "      <td>184</td>\n",
       "    </tr>\n",
       "    <tr>\n",
       "      <th>1</th>\n",
       "      <td>10002220</td>\n",
       "      <td>368.79</td>\n",
       "      <td>2017-07-14</td>\n",
       "      <td>100233</td>\n",
       "      <td>Moms Sliced Turkey</td>\n",
       "      <td>1000</td>\n",
       "      <td>824.96</td>\n",
       "      <td>200245</td>\n",
       "      <td>2017-07-14</td>\n",
       "      <td>456.17</td>\n",
       "      <td>824.96</td>\n",
       "      <td>0.0</td>\n",
       "      <td>456.17</td>\n",
       "      <td>456.170000</td>\n",
       "      <td>1</td>\n",
       "      <td>127</td>\n",
       "    </tr>\n",
       "    <tr>\n",
       "      <th>2</th>\n",
       "      <td>10002220</td>\n",
       "      <td>109.73</td>\n",
       "      <td>2017-10-17</td>\n",
       "      <td>116165</td>\n",
       "      <td>Cutting Edge Foot-Long Hot Dogs</td>\n",
       "      <td>1000</td>\n",
       "      <td>548.66</td>\n",
       "      <td>213157</td>\n",
       "      <td>2017-10-16</td>\n",
       "      <td>438.93</td>\n",
       "      <td>548.66</td>\n",
       "      <td>0.0</td>\n",
       "      <td>438.93</td>\n",
       "      <td>438.930000</td>\n",
       "      <td>1</td>\n",
       "      <td>127</td>\n",
       "    </tr>\n",
       "    <tr>\n",
       "      <th>3</th>\n",
       "      <td>10002489</td>\n",
       "      <td>-211.75</td>\n",
       "      <td>2017-06-03</td>\n",
       "      <td>100096</td>\n",
       "      <td>Kiwi Lox</td>\n",
       "      <td>1000</td>\n",
       "      <td>0.00</td>\n",
       "      <td>200107</td>\n",
       "      <td>2017-06-03</td>\n",
       "      <td>211.75</td>\n",
       "      <td>0.00</td>\n",
       "      <td>0.0</td>\n",
       "      <td>211.75</td>\n",
       "      <td>211.750000</td>\n",
       "      <td>1</td>\n",
       "      <td>160</td>\n",
       "    </tr>\n",
       "    <tr>\n",
       "      <th>4</th>\n",
       "      <td>10004516</td>\n",
       "      <td>96627.94</td>\n",
       "      <td>2017-05-27</td>\n",
       "      <td>103341</td>\n",
       "      <td>High Top Sweet Onion</td>\n",
       "      <td>1000</td>\n",
       "      <td>408.52</td>\n",
       "      <td>203785</td>\n",
       "      <td>2017-05-28</td>\n",
       "      <td>89248.66</td>\n",
       "      <td>185876.60</td>\n",
       "      <td>0.0</td>\n",
       "      <td>89248.66</td>\n",
       "      <td>196.150901</td>\n",
       "      <td>455</td>\n",
       "      <td>124</td>\n",
       "    </tr>\n",
       "  </tbody>\n",
       "</table>\n",
       "</div>"
      ],
      "text/plain": [
       "    CustKey  Discount Amount Invoice Date  Invoice Number  \\\n",
       "0  10000481          -237.91   2017-04-30          100012   \n",
       "1  10002220           368.79   2017-07-14          100233   \n",
       "2  10002220           109.73   2017-10-17          116165   \n",
       "3  10002489          -211.75   2017-06-03          100096   \n",
       "4  10004516         96627.94   2017-05-27          103341   \n",
       "\n",
       "                              Item  Line Number  List Price  Order Number  \\\n",
       "0                 Urban Large Eggs         2000        0.00        200015   \n",
       "1               Moms Sliced Turkey         1000      824.96        200245   \n",
       "2  Cutting Edge Foot-Long Hot Dogs         1000      548.66        213157   \n",
       "3                         Kiwi Lox         1000        0.00        200107   \n",
       "4             High Top Sweet Onion         1000      408.52        203785   \n",
       "\n",
       "  Promised Delivery Date  Sales Amount  Sales Amount Based on List Price  \\\n",
       "0             2017-04-30        237.91                              0.00   \n",
       "1             2017-07-14        456.17                            824.96   \n",
       "2             2017-10-16        438.93                            548.66   \n",
       "3             2017-06-03        211.75                              0.00   \n",
       "4             2017-05-28      89248.66                         185876.60   \n",
       "\n",
       "   Sales Cost Amount  Sales Margin Amount  Sales Price  Sales Quantity  \\\n",
       "0                0.0               237.91   237.910000               1   \n",
       "1                0.0               456.17   456.170000               1   \n",
       "2                0.0               438.93   438.930000               1   \n",
       "3                0.0               211.75   211.750000               1   \n",
       "4                0.0             89248.66   196.150901             455   \n",
       "\n",
       "   Sales Rep  \n",
       "0        184  \n",
       "1        127  \n",
       "2        127  \n",
       "3        160  \n",
       "4        124  "
      ]
     },
     "execution_count": 10,
     "metadata": {},
     "output_type": "execute_result"
    }
   ],
   "source": [
    "df.head(5)"
   ]
  },
  {
   "cell_type": "code",
   "execution_count": 11,
   "id": "00b03b18",
   "metadata": {},
   "outputs": [],
   "source": [
    "df.to_csv('cleaned_data.csv')"
   ]
  },
  {
   "cell_type": "markdown",
   "id": "ea0f2749",
   "metadata": {},
   "source": [
    "# Exploratory Analysis of the Data\n",
    "## Characteristics of the data"
   ]
  },
  {
   "cell_type": "code",
   "execution_count": 12,
   "id": "417c435f",
   "metadata": {},
   "outputs": [
    {
     "data": {
      "text/html": [
       "<div>\n",
       "<style scoped>\n",
       "    .dataframe tbody tr th:only-of-type {\n",
       "        vertical-align: middle;\n",
       "    }\n",
       "\n",
       "    .dataframe tbody tr th {\n",
       "        vertical-align: top;\n",
       "    }\n",
       "\n",
       "    .dataframe thead th {\n",
       "        text-align: right;\n",
       "    }\n",
       "</style>\n",
       "<table border=\"1\" class=\"dataframe\">\n",
       "  <thead>\n",
       "    <tr style=\"text-align: right;\">\n",
       "      <th></th>\n",
       "      <th>CustKey</th>\n",
       "      <th>Discount Amount</th>\n",
       "      <th>Invoice Number</th>\n",
       "      <th>Line Number</th>\n",
       "      <th>List Price</th>\n",
       "      <th>Order Number</th>\n",
       "      <th>Sales Amount</th>\n",
       "      <th>Sales Amount Based on List Price</th>\n",
       "      <th>Sales Cost Amount</th>\n",
       "      <th>Sales Margin Amount</th>\n",
       "      <th>Sales Price</th>\n",
       "      <th>Sales Quantity</th>\n",
       "      <th>Sales Rep</th>\n",
       "    </tr>\n",
       "  </thead>\n",
       "  <tbody>\n",
       "    <tr>\n",
       "      <th>count</th>\n",
       "      <td>6.528200e+04</td>\n",
       "      <td>65282.000000</td>\n",
       "      <td>65282.000000</td>\n",
       "      <td>65282.000000</td>\n",
       "      <td>65282.000000</td>\n",
       "      <td>65282.000000</td>\n",
       "      <td>65282.000000</td>\n",
       "      <td>65282.000000</td>\n",
       "      <td>65282.000000</td>\n",
       "      <td>65282.000000</td>\n",
       "      <td>65282.000000</td>\n",
       "      <td>65282.000000</td>\n",
       "      <td>65282.000000</td>\n",
       "    </tr>\n",
       "    <tr>\n",
       "      <th>mean</th>\n",
       "      <td>1.001770e+07</td>\n",
       "      <td>1855.517987</td>\n",
       "      <td>216223.662020</td>\n",
       "      <td>23713.849790</td>\n",
       "      <td>514.693380</td>\n",
       "      <td>180583.064352</td>\n",
       "      <td>2852.038373</td>\n",
       "      <td>4707.473613</td>\n",
       "      <td>1660.979228</td>\n",
       "      <td>1191.059145</td>\n",
       "      <td>283.615913</td>\n",
       "      <td>45.084311</td>\n",
       "      <td>137.422398</td>\n",
       "    </tr>\n",
       "    <tr>\n",
       "      <th>std</th>\n",
       "      <td>7.176148e+03</td>\n",
       "      <td>9037.008289</td>\n",
       "      <td>94992.281866</td>\n",
       "      <td>32664.024053</td>\n",
       "      <td>449.189182</td>\n",
       "      <td>67593.871116</td>\n",
       "      <td>15164.342107</td>\n",
       "      <td>20696.443785</td>\n",
       "      <td>9556.485250</td>\n",
       "      <td>5860.787502</td>\n",
       "      <td>252.874782</td>\n",
       "      <td>429.661793</td>\n",
       "      <td>26.643936</td>\n",
       "    </tr>\n",
       "    <tr>\n",
       "      <th>min</th>\n",
       "      <td>1.000045e+07</td>\n",
       "      <td>-255820.800000</td>\n",
       "      <td>100012.000000</td>\n",
       "      <td>1000.000000</td>\n",
       "      <td>0.000000</td>\n",
       "      <td>100838.000000</td>\n",
       "      <td>200.010000</td>\n",
       "      <td>0.000000</td>\n",
       "      <td>0.000000</td>\n",
       "      <td>-3932.930000</td>\n",
       "      <td>-5000.000000</td>\n",
       "      <td>-1.000000</td>\n",
       "      <td>103.000000</td>\n",
       "    </tr>\n",
       "    <tr>\n",
       "      <th>25%</th>\n",
       "      <td>1.001272e+07</td>\n",
       "      <td>246.030000</td>\n",
       "      <td>117931.000000</td>\n",
       "      <td>3000.000000</td>\n",
       "      <td>181.560000</td>\n",
       "      <td>115321.000000</td>\n",
       "      <td>308.387500</td>\n",
       "      <td>561.040000</td>\n",
       "      <td>167.790000</td>\n",
       "      <td>129.950000</td>\n",
       "      <td>100.070000</td>\n",
       "      <td>2.000000</td>\n",
       "      <td>113.000000</td>\n",
       "    </tr>\n",
       "    <tr>\n",
       "      <th>50%</th>\n",
       "      <td>1.001966e+07</td>\n",
       "      <td>441.760000</td>\n",
       "      <td>222869.500000</td>\n",
       "      <td>12000.000000</td>\n",
       "      <td>325.190000</td>\n",
       "      <td>203702.000000</td>\n",
       "      <td>553.940000</td>\n",
       "      <td>998.160000</td>\n",
       "      <td>304.500000</td>\n",
       "      <td>246.490000</td>\n",
       "      <td>183.758250</td>\n",
       "      <td>3.000000</td>\n",
       "      <td>134.000000</td>\n",
       "    </tr>\n",
       "    <tr>\n",
       "      <th>75%</th>\n",
       "      <td>1.002351e+07</td>\n",
       "      <td>999.760000</td>\n",
       "      <td>314318.750000</td>\n",
       "      <td>32000.000000</td>\n",
       "      <td>803.860000</td>\n",
       "      <td>218576.000000</td>\n",
       "      <td>1280.042500</td>\n",
       "      <td>2315.040000</td>\n",
       "      <td>687.320000</td>\n",
       "      <td>579.530000</td>\n",
       "      <td>448.220000</td>\n",
       "      <td>8.000000</td>\n",
       "      <td>160.000000</td>\n",
       "    </tr>\n",
       "    <tr>\n",
       "      <th>max</th>\n",
       "      <td>1.002758e+07</td>\n",
       "      <td>343532.660000</td>\n",
       "      <td>332842.000000</td>\n",
       "      <td>344000.000000</td>\n",
       "      <td>2760.700000</td>\n",
       "      <td>321532.000000</td>\n",
       "      <td>555376.000000</td>\n",
       "      <td>632610.160000</td>\n",
       "      <td>366576.000000</td>\n",
       "      <td>188800.000000</td>\n",
       "      <td>6035.000000</td>\n",
       "      <td>16000.000000</td>\n",
       "      <td>185.000000</td>\n",
       "    </tr>\n",
       "  </tbody>\n",
       "</table>\n",
       "</div>"
      ],
      "text/plain": [
       "            CustKey  Discount Amount  Invoice Number    Line Number  \\\n",
       "count  6.528200e+04     65282.000000    65282.000000   65282.000000   \n",
       "mean   1.001770e+07      1855.517987   216223.662020   23713.849790   \n",
       "std    7.176148e+03      9037.008289    94992.281866   32664.024053   \n",
       "min    1.000045e+07   -255820.800000   100012.000000    1000.000000   \n",
       "25%    1.001272e+07       246.030000   117931.000000    3000.000000   \n",
       "50%    1.001966e+07       441.760000   222869.500000   12000.000000   \n",
       "75%    1.002351e+07       999.760000   314318.750000   32000.000000   \n",
       "max    1.002758e+07    343532.660000   332842.000000  344000.000000   \n",
       "\n",
       "         List Price   Order Number   Sales Amount  \\\n",
       "count  65282.000000   65282.000000   65282.000000   \n",
       "mean     514.693380  180583.064352    2852.038373   \n",
       "std      449.189182   67593.871116   15164.342107   \n",
       "min        0.000000  100838.000000     200.010000   \n",
       "25%      181.560000  115321.000000     308.387500   \n",
       "50%      325.190000  203702.000000     553.940000   \n",
       "75%      803.860000  218576.000000    1280.042500   \n",
       "max     2760.700000  321532.000000  555376.000000   \n",
       "\n",
       "       Sales Amount Based on List Price  Sales Cost Amount  \\\n",
       "count                      65282.000000       65282.000000   \n",
       "mean                        4707.473613        1660.979228   \n",
       "std                        20696.443785        9556.485250   \n",
       "min                            0.000000           0.000000   \n",
       "25%                          561.040000         167.790000   \n",
       "50%                          998.160000         304.500000   \n",
       "75%                         2315.040000         687.320000   \n",
       "max                       632610.160000      366576.000000   \n",
       "\n",
       "       Sales Margin Amount   Sales Price  Sales Quantity     Sales Rep  \n",
       "count         65282.000000  65282.000000    65282.000000  65282.000000  \n",
       "mean           1191.059145    283.615913       45.084311    137.422398  \n",
       "std            5860.787502    252.874782      429.661793     26.643936  \n",
       "min           -3932.930000  -5000.000000       -1.000000    103.000000  \n",
       "25%             129.950000    100.070000        2.000000    113.000000  \n",
       "50%             246.490000    183.758250        3.000000    134.000000  \n",
       "75%             579.530000    448.220000        8.000000    160.000000  \n",
       "max          188800.000000   6035.000000    16000.000000    185.000000  "
      ]
     },
     "execution_count": 12,
     "metadata": {},
     "output_type": "execute_result"
    }
   ],
   "source": [
    "df.describe()"
   ]
  },
  {
   "cell_type": "markdown",
   "id": "d3c61fd4",
   "metadata": {},
   "source": [
    "## Overall Sales Trend"
   ]
  },
  {
   "cell_type": "code",
   "execution_count": 13,
   "id": "de089085",
   "metadata": {},
   "outputs": [
    {
     "data": {
      "text/plain": [
       "Timestamp('2019-12-31 00:00:00')"
      ]
     },
     "execution_count": 13,
     "metadata": {},
     "output_type": "execute_result"
    }
   ],
   "source": [
    "df['Invoice Date'].max()"
   ]
  },
  {
   "cell_type": "code",
   "execution_count": 14,
   "id": "0ce81d4e",
   "metadata": {},
   "outputs": [],
   "source": [
    "# Getting month Year\n",
    "df['Month_Year'] = df['Invoice Date'].apply(lambda x: x.strftime('%Y-%m'))"
   ]
  },
  {
   "cell_type": "code",
   "execution_count": 15,
   "id": "5f244e17",
   "metadata": {},
   "outputs": [
    {
     "data": {
      "image/png": "[encoded data removed]",
      "text/plain": [
       "<Figure size 1080x360 with 1 Axes>"
      ]
     },
     "metadata": {
      "needs_background": "light"
     },
     "output_type": "display_data"
    }
   ],
   "source": [
    "results = df.groupby('Month_Year').sum()\n",
    "months = [month for month, df in df.groupby('Month_Year')]\n",
    "plt.figure(figsize=(15,5))\n",
    "plt.plot(months,results['Sales Price'], color = '#b80045')\n",
    "plt.xticks(months, rotation='vertical', size = 8)\n",
    "plt.ylabel('Sales in USD')\n",
    "plt.xlabel('Month')\n",
    "plt.show()"
   ]
  },
  {
   "cell_type": "markdown",
   "id": "8f698317",
   "metadata": {},
   "source": [
    "## MoM Growth"
   ]
  },
  {
   "cell_type": "code",
   "execution_count": 16,
   "id": "1f040784",
   "metadata": {},
   "outputs": [],
   "source": [
    "MoM_Data = pd.DataFrame(results['Sales Price'])"
   ]
  },
  {
   "cell_type": "code",
   "execution_count": 17,
   "id": "4226a709",
   "metadata": {},
   "outputs": [],
   "source": [
    "MoM_Data['Last_Month'] = np.roll(MoM_Data['Sales Price'],1)"
   ]
  },
  {
   "cell_type": "code",
   "execution_count": 18,
   "id": "4c4ade42",
   "metadata": {},
   "outputs": [
    {
     "data": {
      "text/html": [
       "<div>\n",
       "<style scoped>\n",
       "    .dataframe tbody tr th:only-of-type {\n",
       "        vertical-align: middle;\n",
       "    }\n",
       "\n",
       "    .dataframe tbody tr th {\n",
       "        vertical-align: top;\n",
       "    }\n",
       "\n",
       "    .dataframe thead th {\n",
       "        text-align: right;\n",
       "    }\n",
       "</style>\n",
       "<table border=\"1\" class=\"dataframe\">\n",
       "  <thead>\n",
       "    <tr style=\"text-align: right;\">\n",
       "      <th></th>\n",
       "      <th>Sales Price</th>\n",
       "      <th>Last_Month</th>\n",
       "      <th>Growth</th>\n",
       "    </tr>\n",
       "    <tr>\n",
       "      <th>Month_Year</th>\n",
       "      <th></th>\n",
       "      <th></th>\n",
       "      <th></th>\n",
       "    </tr>\n",
       "  </thead>\n",
       "  <tbody>\n",
       "    <tr>\n",
       "      <th>2017-02</th>\n",
       "      <td>600460.161869</td>\n",
       "      <td>781317.138966</td>\n",
       "      <td>-0.231477</td>\n",
       "    </tr>\n",
       "    <tr>\n",
       "      <th>2017-03</th>\n",
       "      <td>741311.980741</td>\n",
       "      <td>600460.161869</td>\n",
       "      <td>0.234573</td>\n",
       "    </tr>\n",
       "    <tr>\n",
       "      <th>2017-04</th>\n",
       "      <td>535719.783362</td>\n",
       "      <td>741311.980741</td>\n",
       "      <td>-0.277336</td>\n",
       "    </tr>\n",
       "    <tr>\n",
       "      <th>2017-05</th>\n",
       "      <td>804600.227856</td>\n",
       "      <td>535719.783362</td>\n",
       "      <td>0.501905</td>\n",
       "    </tr>\n",
       "    <tr>\n",
       "      <th>2017-06</th>\n",
       "      <td>850540.174847</td>\n",
       "      <td>804600.227856</td>\n",
       "      <td>0.057097</td>\n",
       "    </tr>\n",
       "  </tbody>\n",
       "</table>\n",
       "</div>"
      ],
      "text/plain": [
       "              Sales Price     Last_Month    Growth\n",
       "Month_Year                                        \n",
       "2017-02     600460.161869  781317.138966 -0.231477\n",
       "2017-03     741311.980741  600460.161869  0.234573\n",
       "2017-04     535719.783362  741311.980741 -0.277336\n",
       "2017-05     804600.227856  535719.783362  0.501905\n",
       "2017-06     850540.174847  804600.227856  0.057097"
      ]
     },
     "execution_count": 18,
     "metadata": {},
     "output_type": "execute_result"
    }
   ],
   "source": [
    "MoM_Data = MoM_Data.drop(MoM_Data.index[0])\n",
    "MoM_Data['Growth'] = (MoM_Data['Sales Price']/MoM_Data['Last_Month'])-1\n",
    "MoM_Data.head()"
   ]
  },
  {
   "cell_type": "code",
   "execution_count": 19,
   "id": "e8eb9973",
   "metadata": {},
   "outputs": [
    {
     "data": {
      "text/html": [
       "<div>\n",
       "<style scoped>\n",
       "    .dataframe tbody tr th:only-of-type {\n",
       "        vertical-align: middle;\n",
       "    }\n",
       "\n",
       "    .dataframe tbody tr th {\n",
       "        vertical-align: top;\n",
       "    }\n",
       "\n",
       "    .dataframe thead th {\n",
       "        text-align: right;\n",
       "    }\n",
       "</style>\n",
       "<table border=\"1\" class=\"dataframe\">\n",
       "  <thead>\n",
       "    <tr style=\"text-align: right;\">\n",
       "      <th></th>\n",
       "      <th>Growth</th>\n",
       "      <th>Months</th>\n",
       "    </tr>\n",
       "  </thead>\n",
       "  <tbody>\n",
       "    <tr>\n",
       "      <th>0</th>\n",
       "      <td>-0.231477</td>\n",
       "      <td>2017-02</td>\n",
       "    </tr>\n",
       "    <tr>\n",
       "      <th>1</th>\n",
       "      <td>0.234573</td>\n",
       "      <td>2017-03</td>\n",
       "    </tr>\n",
       "    <tr>\n",
       "      <th>2</th>\n",
       "      <td>-0.277336</td>\n",
       "      <td>2017-04</td>\n",
       "    </tr>\n",
       "    <tr>\n",
       "      <th>3</th>\n",
       "      <td>0.501905</td>\n",
       "      <td>2017-05</td>\n",
       "    </tr>\n",
       "    <tr>\n",
       "      <th>4</th>\n",
       "      <td>0.057097</td>\n",
       "      <td>2017-06</td>\n",
       "    </tr>\n",
       "  </tbody>\n",
       "</table>\n",
       "</div>"
      ],
      "text/plain": [
       "     Growth   Months\n",
       "0 -0.231477  2017-02\n",
       "1  0.234573  2017-03\n",
       "2 -0.277336  2017-04\n",
       "3  0.501905  2017-05\n",
       "4  0.057097  2017-06"
      ]
     },
     "execution_count": 19,
     "metadata": {},
     "output_type": "execute_result"
    }
   ],
   "source": [
    "results = MoM_Data.drop(columns = [\"Sales Price\", \"Last_Month\"])\n",
    "results['Months'] = results.index\n",
    "results.reset_index(drop=True, inplace=True)\n",
    "results.head()"
   ]
  },
  {
   "cell_type": "code",
   "execution_count": 20,
   "id": "3adfcf79",
   "metadata": {},
   "outputs": [
    {
     "data": {
      "image/png": "[encoded data removed]",
      "text/plain": [
       "<Figure size 1080x360 with 1 Axes>"
      ]
     },
     "metadata": {
      "needs_background": "light"
     },
     "output_type": "display_data"
    }
   ],
   "source": [
    "plt.figure(figsize=(15,5))\n",
    "plt.plot(results['Months'],results['Growth']*100, color = '#b60095')\n",
    "plt.xticks(results['Months'], rotation='vertical', size = 10)\n",
    "plt.ylabel('% Growth')\n",
    "plt.xlabel('Month')\n",
    "plt.title(\"\\n MoM Growth\\n\", size=25)\n",
    "plt.show()"
   ]
  },
  {
   "cell_type": "markdown",
   "id": "068e5a92",
   "metadata": {},
   "source": [
    "## YoY Growth"
   ]
  },
  {
   "cell_type": "code",
   "execution_count": 21,
   "id": "8e66317d",
   "metadata": {},
   "outputs": [
    {
     "data": {
      "text/html": [
       "<div>\n",
       "<style scoped>\n",
       "    .dataframe tbody tr th:only-of-type {\n",
       "        vertical-align: middle;\n",
       "    }\n",
       "\n",
       "    .dataframe tbody tr th {\n",
       "        vertical-align: top;\n",
       "    }\n",
       "\n",
       "    .dataframe thead th {\n",
       "        text-align: right;\n",
       "    }\n",
       "</style>\n",
       "<table border=\"1\" class=\"dataframe\">\n",
       "  <thead>\n",
       "    <tr style=\"text-align: right;\">\n",
       "      <th></th>\n",
       "      <th>Sales Price</th>\n",
       "      <th>Last_Year</th>\n",
       "    </tr>\n",
       "    <tr>\n",
       "      <th>Month_Year</th>\n",
       "      <th></th>\n",
       "      <th></th>\n",
       "    </tr>\n",
       "  </thead>\n",
       "  <tbody>\n",
       "    <tr>\n",
       "      <th>2018-01</th>\n",
       "      <td>706622.651847</td>\n",
       "      <td>781317.138966</td>\n",
       "    </tr>\n",
       "    <tr>\n",
       "      <th>2018-02</th>\n",
       "      <td>620099.987458</td>\n",
       "      <td>600460.161869</td>\n",
       "    </tr>\n",
       "    <tr>\n",
       "      <th>2018-03</th>\n",
       "      <td>620615.304779</td>\n",
       "      <td>741311.980741</td>\n",
       "    </tr>\n",
       "    <tr>\n",
       "      <th>2019-01</th>\n",
       "      <td>270807.438237</td>\n",
       "      <td>535719.783362</td>\n",
       "    </tr>\n",
       "    <tr>\n",
       "      <th>2019-02</th>\n",
       "      <td>619094.828742</td>\n",
       "      <td>804600.227856</td>\n",
       "    </tr>\n",
       "  </tbody>\n",
       "</table>\n",
       "</div>"
      ],
      "text/plain": [
       "              Sales Price      Last_Year\n",
       "Month_Year                              \n",
       "2018-01     706622.651847  781317.138966\n",
       "2018-02     620099.987458  600460.161869\n",
       "2018-03     620615.304779  741311.980741\n",
       "2019-01     270807.438237  535719.783362\n",
       "2019-02     619094.828742  804600.227856"
      ]
     },
     "execution_count": 21,
     "metadata": {},
     "output_type": "execute_result"
    }
   ],
   "source": [
    "YoY_Data = pd.DataFrame(df.groupby('Month_Year').sum()['Sales Price'])\n",
    "YoY_Data['Last_Year'] = np.roll(YoY_Data['Sales Price'],12)\n",
    "YoY_Data = YoY_Data.drop(YoY_Data.index[0:12])\n",
    "YoY_Data.head()"
   ]
  },
  {
   "cell_type": "code",
   "execution_count": 22,
   "id": "40733bf0",
   "metadata": {},
   "outputs": [
    {
     "data": {
      "text/html": [
       "<div>\n",
       "<style scoped>\n",
       "    .dataframe tbody tr th:only-of-type {\n",
       "        vertical-align: middle;\n",
       "    }\n",
       "\n",
       "    .dataframe tbody tr th {\n",
       "        vertical-align: top;\n",
       "    }\n",
       "\n",
       "    .dataframe thead th {\n",
       "        text-align: right;\n",
       "    }\n",
       "</style>\n",
       "<table border=\"1\" class=\"dataframe\">\n",
       "  <thead>\n",
       "    <tr style=\"text-align: right;\">\n",
       "      <th></th>\n",
       "      <th>Sales Price</th>\n",
       "      <th>Last_Year</th>\n",
       "      <th>Growth</th>\n",
       "    </tr>\n",
       "    <tr>\n",
       "      <th>Month_Year</th>\n",
       "      <th></th>\n",
       "      <th></th>\n",
       "      <th></th>\n",
       "    </tr>\n",
       "  </thead>\n",
       "  <tbody>\n",
       "    <tr>\n",
       "      <th>2018-01</th>\n",
       "      <td>706622.651847</td>\n",
       "      <td>781317.138966</td>\n",
       "      <td>-0.095601</td>\n",
       "    </tr>\n",
       "    <tr>\n",
       "      <th>2018-02</th>\n",
       "      <td>620099.987458</td>\n",
       "      <td>600460.161869</td>\n",
       "      <td>0.032708</td>\n",
       "    </tr>\n",
       "    <tr>\n",
       "      <th>2018-03</th>\n",
       "      <td>620615.304779</td>\n",
       "      <td>741311.980741</td>\n",
       "      <td>-0.162815</td>\n",
       "    </tr>\n",
       "    <tr>\n",
       "      <th>2019-01</th>\n",
       "      <td>270807.438237</td>\n",
       "      <td>535719.783362</td>\n",
       "      <td>-0.494498</td>\n",
       "    </tr>\n",
       "    <tr>\n",
       "      <th>2019-02</th>\n",
       "      <td>619094.828742</td>\n",
       "      <td>804600.227856</td>\n",
       "      <td>-0.230556</td>\n",
       "    </tr>\n",
       "  </tbody>\n",
       "</table>\n",
       "</div>"
      ],
      "text/plain": [
       "              Sales Price      Last_Year    Growth\n",
       "Month_Year                                        \n",
       "2018-01     706622.651847  781317.138966 -0.095601\n",
       "2018-02     620099.987458  600460.161869  0.032708\n",
       "2018-03     620615.304779  741311.980741 -0.162815\n",
       "2019-01     270807.438237  535719.783362 -0.494498\n",
       "2019-02     619094.828742  804600.227856 -0.230556"
      ]
     },
     "execution_count": 22,
     "metadata": {},
     "output_type": "execute_result"
    }
   ],
   "source": [
    "YoY_Data['Growth'] = (YoY_Data['Sales Price']/YoY_Data['Last_Year'])-1\n",
    "YoY_Data.head()"
   ]
  },
  {
   "cell_type": "code",
   "execution_count": 23,
   "id": "99702fe9",
   "metadata": {},
   "outputs": [
    {
     "data": {
      "text/html": [
       "<div>\n",
       "<style scoped>\n",
       "    .dataframe tbody tr th:only-of-type {\n",
       "        vertical-align: middle;\n",
       "    }\n",
       "\n",
       "    .dataframe tbody tr th {\n",
       "        vertical-align: top;\n",
       "    }\n",
       "\n",
       "    .dataframe thead th {\n",
       "        text-align: right;\n",
       "    }\n",
       "</style>\n",
       "<table border=\"1\" class=\"dataframe\">\n",
       "  <thead>\n",
       "    <tr style=\"text-align: right;\">\n",
       "      <th></th>\n",
       "      <th>Growth</th>\n",
       "      <th>Month_Year</th>\n",
       "    </tr>\n",
       "  </thead>\n",
       "  <tbody>\n",
       "    <tr>\n",
       "      <th>0</th>\n",
       "      <td>-0.095601</td>\n",
       "      <td>2018-01</td>\n",
       "    </tr>\n",
       "    <tr>\n",
       "      <th>1</th>\n",
       "      <td>0.032708</td>\n",
       "      <td>2018-02</td>\n",
       "    </tr>\n",
       "    <tr>\n",
       "      <th>2</th>\n",
       "      <td>-0.162815</td>\n",
       "      <td>2018-03</td>\n",
       "    </tr>\n",
       "    <tr>\n",
       "      <th>3</th>\n",
       "      <td>-0.494498</td>\n",
       "      <td>2019-01</td>\n",
       "    </tr>\n",
       "    <tr>\n",
       "      <th>4</th>\n",
       "      <td>-0.230556</td>\n",
       "      <td>2019-02</td>\n",
       "    </tr>\n",
       "  </tbody>\n",
       "</table>\n",
       "</div>"
      ],
      "text/plain": [
       "     Growth Month_Year\n",
       "0 -0.095601    2018-01\n",
       "1  0.032708    2018-02\n",
       "2 -0.162815    2018-03\n",
       "3 -0.494498    2019-01\n",
       "4 -0.230556    2019-02"
      ]
     },
     "execution_count": 23,
     "metadata": {},
     "output_type": "execute_result"
    }
   ],
   "source": [
    "results = YoY_Data.drop(columns = [\"Sales Price\", \"Last_Year\"])\n",
    "results['Month_Year'] = results.index\n",
    "results.reset_index(drop=True, inplace=True)\n",
    "results.head()"
   ]
  },
  {
   "cell_type": "code",
   "execution_count": 24,
   "id": "09ca1b35",
   "metadata": {},
   "outputs": [
    {
     "data": {
      "image/png": "[encoded data removed]",
      "text/plain": [
       "<Figure size 1080x360 with 1 Axes>"
      ]
     },
     "metadata": {
      "needs_background": "light"
     },
     "output_type": "display_data"
    }
   ],
   "source": [
    "plt.figure(figsize=(15,5))\n",
    "plt.plot(results['Month_Year'],results['Growth']*100, color = '#b60095')\n",
    "plt.xticks(results['Month_Year'], rotation='vertical', size = 8)\n",
    "plt.ylabel('% Growth')\n",
    "plt.xlabel('\\n Year')\n",
    "plt.title(\"\\n YoY Growth \\n\", size=25)\n",
    "plt.show()"
   ]
  },
  {
   "cell_type": "markdown",
   "id": "5ab3d400",
   "metadata": {},
   "source": [
    "## What are the top 10 Products in terms of Profit"
   ]
  },
  {
   "cell_type": "code",
   "execution_count": 25,
   "id": "e4ed4ea0",
   "metadata": {},
   "outputs": [
    {
     "data": {
      "text/html": [
       "<div>\n",
       "<style scoped>\n",
       "    .dataframe tbody tr th:only-of-type {\n",
       "        vertical-align: middle;\n",
       "    }\n",
       "\n",
       "    .dataframe tbody tr th {\n",
       "        vertical-align: top;\n",
       "    }\n",
       "\n",
       "    .dataframe thead th {\n",
       "        text-align: right;\n",
       "    }\n",
       "</style>\n",
       "<table border=\"1\" class=\"dataframe\">\n",
       "  <thead>\n",
       "    <tr style=\"text-align: right;\">\n",
       "      <th></th>\n",
       "      <th>Sales Price</th>\n",
       "    </tr>\n",
       "    <tr>\n",
       "      <th>Item</th>\n",
       "      <th></th>\n",
       "    </tr>\n",
       "  </thead>\n",
       "  <tbody>\n",
       "    <tr>\n",
       "      <th>Better Fancy Canned Sardines</th>\n",
       "      <td>1263261</td>\n",
       "    </tr>\n",
       "    <tr>\n",
       "      <th>Red Spade Foot-Long Hot Dogs</th>\n",
       "      <td>937366</td>\n",
       "    </tr>\n",
       "    <tr>\n",
       "      <th>Discover Manicotti</th>\n",
       "      <td>765222</td>\n",
       "    </tr>\n",
       "    <tr>\n",
       "      <th>Ebony Prepared Salad</th>\n",
       "      <td>723557</td>\n",
       "    </tr>\n",
       "    <tr>\n",
       "      <th>Imagine Popsicles</th>\n",
       "      <td>693747</td>\n",
       "    </tr>\n",
       "    <tr>\n",
       "      <th>Atomic Mint Chocolate Bar</th>\n",
       "      <td>578217</td>\n",
       "    </tr>\n",
       "    <tr>\n",
       "      <th>Red Spade Turkey Hot Dogs</th>\n",
       "      <td>540077</td>\n",
       "    </tr>\n",
       "    <tr>\n",
       "      <th>Moms Sliced Turkey</th>\n",
       "      <td>487833</td>\n",
       "    </tr>\n",
       "    <tr>\n",
       "      <th>Bravo Large Canned Shrimp</th>\n",
       "      <td>471849</td>\n",
       "    </tr>\n",
       "    <tr>\n",
       "      <th>Even Better Strawberry Yogurt</th>\n",
       "      <td>391694</td>\n",
       "    </tr>\n",
       "  </tbody>\n",
       "</table>\n",
       "</div>"
      ],
      "text/plain": [
       "                               Sales Price\n",
       "Item                                      \n",
       "Better Fancy Canned Sardines       1263261\n",
       "Red Spade Foot-Long Hot Dogs        937366\n",
       "Discover Manicotti                  765222\n",
       "Ebony Prepared Salad                723557\n",
       "Imagine Popsicles                   693747\n",
       "Atomic Mint Chocolate Bar           578217\n",
       "Red Spade Turkey Hot Dogs           540077\n",
       "Moms Sliced Turkey                  487833\n",
       "Bravo Large Canned Shrimp           471849\n",
       "Even Better Strawberry Yogurt       391694"
      ]
     },
     "execution_count": 25,
     "metadata": {},
     "output_type": "execute_result"
    }
   ],
   "source": [
    "prod_sales=pd.DataFrame(df.groupby('Item').sum()['Sales Price'])\n",
    "prod_sales=prod_sales.sort_values('Sales Price', ascending = False).astype('int')\n",
    "prod_sales[:10]"
   ]
  },
  {
   "cell_type": "code",
   "execution_count": 40,
   "id": "1d8712ee",
   "metadata": {},
   "outputs": [
    {
     "data": {
      "text/plain": [
       "Text(0, 0.5, 'SALES PRICE')"
      ]
     },
     "execution_count": 40,
     "metadata": {},
     "output_type": "execute_result"
    },
    {
     "data": {
      "image/png": "[encoded data removed]",
      "text/plain": [
       "<Figure size 1080x360 with 1 Axes>"
      ]
     },
     "metadata": {
      "needs_background": "light"
     },
     "output_type": "display_data"
    }
   ],
   "source": [
    "prod_sales[:10].plot(kind='bar' , title = 'TOP 10 PRODUCTS', figsize=(15,5), color = '#7cb600')\n",
    "plt.xlabel(\"ITEM\")\n",
    "plt.ylabel(\"SALES PRICE\")"
   ]
  },
  {
   "cell_type": "markdown",
   "id": "d65b82c2",
   "metadata": {},
   "source": [
    "##  What are the 10 Products in terms of loss"
   ]
  },
  {
   "cell_type": "code",
   "execution_count": 27,
   "id": "8c8f61e0",
   "metadata": {},
   "outputs": [
    {
     "data": {
      "text/html": [
       "<div>\n",
       "<style scoped>\n",
       "    .dataframe tbody tr th:only-of-type {\n",
       "        vertical-align: middle;\n",
       "    }\n",
       "\n",
       "    .dataframe tbody tr th {\n",
       "        vertical-align: top;\n",
       "    }\n",
       "\n",
       "    .dataframe thead th {\n",
       "        text-align: right;\n",
       "    }\n",
       "</style>\n",
       "<table border=\"1\" class=\"dataframe\">\n",
       "  <thead>\n",
       "    <tr style=\"text-align: right;\">\n",
       "      <th></th>\n",
       "      <th>Sales Price</th>\n",
       "    </tr>\n",
       "    <tr>\n",
       "      <th>Item</th>\n",
       "      <th></th>\n",
       "    </tr>\n",
       "  </thead>\n",
       "  <tbody>\n",
       "    <tr>\n",
       "      <th>Great Bagels</th>\n",
       "      <td>1</td>\n",
       "    </tr>\n",
       "    <tr>\n",
       "      <th>Great White Bread</th>\n",
       "      <td>3</td>\n",
       "    </tr>\n",
       "    <tr>\n",
       "      <th>Super Hot Chocolate</th>\n",
       "      <td>8</td>\n",
       "    </tr>\n",
       "    <tr>\n",
       "      <th>Excellent Cranberry Juice</th>\n",
       "      <td>9</td>\n",
       "    </tr>\n",
       "    <tr>\n",
       "      <th>Pearl Light Wine</th>\n",
       "      <td>10</td>\n",
       "    </tr>\n",
       "    <tr>\n",
       "      <th>Best Choice Salsa Dip</th>\n",
       "      <td>13</td>\n",
       "    </tr>\n",
       "    <tr>\n",
       "      <th>Club 1% Milk</th>\n",
       "      <td>16</td>\n",
       "    </tr>\n",
       "    <tr>\n",
       "      <th>Choice Semi-Sweet Chocolate Bar</th>\n",
       "      <td>17</td>\n",
       "    </tr>\n",
       "    <tr>\n",
       "      <th>Gorilla Head Cheese</th>\n",
       "      <td>20</td>\n",
       "    </tr>\n",
       "    <tr>\n",
       "      <th>Red Spade Cole Slaw</th>\n",
       "      <td>23</td>\n",
       "    </tr>\n",
       "  </tbody>\n",
       "</table>\n",
       "</div>"
      ],
      "text/plain": [
       "                                 Sales Price\n",
       "Item                                        \n",
       "Great Bagels                               1\n",
       "Great White Bread                          3\n",
       "Super Hot Chocolate                        8\n",
       "Excellent Cranberry Juice                  9\n",
       "Pearl Light Wine                          10\n",
       "Best Choice Salsa Dip                     13\n",
       "Club 1% Milk                              16\n",
       "Choice Semi-Sweet Chocolate Bar           17\n",
       "Gorilla Head Cheese                       20\n",
       "Red Spade Cole Slaw                       23"
      ]
     },
     "execution_count": 27,
     "metadata": {},
     "output_type": "execute_result"
    }
   ],
   "source": [
    "prod_loss=pd.DataFrame(df.groupby('Item').sum()['Sales Price'])\n",
    "prod_loss=prod_sales.sort_values('Sales Price', ascending = True).astype('int')\n",
    "prod_loss[:10]"
   ]
  },
  {
   "cell_type": "code",
   "execution_count": 42,
   "id": "41cf6a7d",
   "metadata": {},
   "outputs": [
    {
     "data": {
      "text/plain": [
       "Text(0, 0.5, 'SALES PRICE')"
      ]
     },
     "execution_count": 42,
     "metadata": {},
     "output_type": "execute_result"
    },
    {
     "data": {
      "image/png": "[encoded data removed]",
      "text/plain": [
       "<Figure size 1080x360 with 1 Axes>"
      ]
     },
     "metadata": {
      "needs_background": "light"
     },
     "output_type": "display_data"
    }
   ],
   "source": [
    "prod_loss[:10].plot(kind='bar', title = 'PRODUCTS IN TERMS OF LOSS', figsize=(15,5), color = '#7cb600')\n",
    "plt.xlabel(\"ITEM\")\n",
    "plt.ylabel(\"SALES PRICE\")"
   ]
  },
  {
   "cell_type": "markdown",
   "id": "7143eead",
   "metadata": {},
   "source": [
    "## What Products sold the most?"
   ]
  },
  {
   "cell_type": "code",
   "execution_count": 29,
   "id": "f080c2d9",
   "metadata": {},
   "outputs": [
    {
     "data": {
      "text/html": [
       "<div>\n",
       "<style scoped>\n",
       "    .dataframe tbody tr th:only-of-type {\n",
       "        vertical-align: middle;\n",
       "    }\n",
       "\n",
       "    .dataframe tbody tr th {\n",
       "        vertical-align: top;\n",
       "    }\n",
       "\n",
       "    .dataframe thead th {\n",
       "        text-align: right;\n",
       "    }\n",
       "</style>\n",
       "<table border=\"1\" class=\"dataframe\">\n",
       "  <thead>\n",
       "    <tr style=\"text-align: right;\">\n",
       "      <th></th>\n",
       "      <th>Sales Quantity</th>\n",
       "    </tr>\n",
       "    <tr>\n",
       "      <th>Item</th>\n",
       "      <th></th>\n",
       "    </tr>\n",
       "  </thead>\n",
       "  <tbody>\n",
       "    <tr>\n",
       "      <th>Better Large Canned Shrimp</th>\n",
       "      <td>590343</td>\n",
       "    </tr>\n",
       "    <tr>\n",
       "      <th>High Top Dried Mushrooms</th>\n",
       "      <td>377259</td>\n",
       "    </tr>\n",
       "    <tr>\n",
       "      <th>Better Canned Tuna in Oil</th>\n",
       "      <td>266996</td>\n",
       "    </tr>\n",
       "    <tr>\n",
       "      <th>Walrus Chardonnay</th>\n",
       "      <td>212022</td>\n",
       "    </tr>\n",
       "    <tr>\n",
       "      <th>Red Spade Pimento Loaf</th>\n",
       "      <td>163296</td>\n",
       "    </tr>\n",
       "  </tbody>\n",
       "</table>\n",
       "</div>"
      ],
      "text/plain": [
       "                            Sales Quantity\n",
       "Item                                      \n",
       "Better Large Canned Shrimp          590343\n",
       "High Top Dried Mushrooms            377259\n",
       "Better Canned Tuna in Oil           266996\n",
       "Walrus Chardonnay                   212022\n",
       "Red Spade Pimento Loaf              163296"
      ]
     },
     "execution_count": 29,
     "metadata": {},
     "output_type": "execute_result"
    }
   ],
   "source": [
    "most_prod=pd.DataFrame(df.groupby('Item').sum()['Sales Quantity'])\n",
    "most_prod=most_prod.sort_values('Sales Quantity', ascending=False)\n",
    "most_prod.head(5)"
   ]
  },
  {
   "cell_type": "code",
   "execution_count": 43,
   "id": "fed42e17",
   "metadata": {},
   "outputs": [
    {
     "data": {
      "text/plain": [
       "Text(0, 0.5, 'SALES QUANTITY')"
      ]
     },
     "execution_count": 43,
     "metadata": {},
     "output_type": "execute_result"
    },
    {
     "data": {
      "image/png": "[encoded data removed]",
      "text/plain": [
       "<Figure size 1080x360 with 1 Axes>"
      ]
     },
     "metadata": {
      "needs_background": "light"
     },
     "output_type": "display_data"
    }
   ],
   "source": [
    "most_prod[:5].plot(kind='bar', title = 'MOST SELLING PROUCTS', figsize=(15,5), color = '#7cb600')\n",
    "plt.xlabel(\"ITEM\")\n",
    "plt.ylabel(\"SALES QUANTITY\")"
   ]
  },
  {
   "cell_type": "markdown",
   "id": "a64defbd",
   "metadata": {},
   "source": [
    "## What products are most often sold together"
   ]
  },
  {
   "cell_type": "code",
   "execution_count": 31,
   "id": "618c77b1",
   "metadata": {},
   "outputs": [
    {
     "name": "stderr",
     "output_type": "stream",
     "text": [
      "<ipython-input-31-a964ed26fa7a>:3: SettingWithCopyWarning: \n",
      "A value is trying to be set on a copy of a slice from a DataFrame.\n",
      "Try using .loc[row_indexer,col_indexer] = value instead\n",
      "\n",
      "See the caveats in the documentation: https://pandas.pydata.org/pandas-docs/stable/user_guide/indexing.html#returning-a-view-versus-a-copy\n",
      "  often_sold['Grouped']=often_sold.groupby('Order Number')['Item'].transform(lambda x: ','.join(x))\n"
     ]
    },
    {
     "data": {
      "text/html": [
       "<div>\n",
       "<style scoped>\n",
       "    .dataframe tbody tr th:only-of-type {\n",
       "        vertical-align: middle;\n",
       "    }\n",
       "\n",
       "    .dataframe tbody tr th {\n",
       "        vertical-align: top;\n",
       "    }\n",
       "\n",
       "    .dataframe thead th {\n",
       "        text-align: right;\n",
       "    }\n",
       "</style>\n",
       "<table border=\"1\" class=\"dataframe\">\n",
       "  <thead>\n",
       "    <tr style=\"text-align: right;\">\n",
       "      <th></th>\n",
       "      <th>Order Number</th>\n",
       "      <th>Grouped</th>\n",
       "    </tr>\n",
       "  </thead>\n",
       "  <tbody>\n",
       "    <tr>\n",
       "      <th>4</th>\n",
       "      <td>203785</td>\n",
       "      <td>High Top Sweet Onion,Best Choice Fudge Brownies</td>\n",
       "    </tr>\n",
       "    <tr>\n",
       "      <th>7</th>\n",
       "      <td>205213</td>\n",
       "      <td>Tell Tale Garlic,High Top Walnuts,Big Time Fro...</td>\n",
       "    </tr>\n",
       "    <tr>\n",
       "      <th>12</th>\n",
       "      <td>200478</td>\n",
       "      <td>Better Fancy Canned Sardines,Red Spade Low Fat...</td>\n",
       "    </tr>\n",
       "    <tr>\n",
       "      <th>17</th>\n",
       "      <td>202989</td>\n",
       "      <td>Landslide Columbian Coffee,High Top Dried Mush...</td>\n",
       "    </tr>\n",
       "    <tr>\n",
       "      <th>21</th>\n",
       "      <td>205041</td>\n",
       "      <td>Ebony Prepared Salad,Bravo Canned Yams,Moms Sl...</td>\n",
       "    </tr>\n",
       "  </tbody>\n",
       "</table>\n",
       "</div>"
      ],
      "text/plain": [
       "    Order Number                                            Grouped\n",
       "4         203785    High Top Sweet Onion,Best Choice Fudge Brownies\n",
       "7         205213  Tell Tale Garlic,High Top Walnuts,Big Time Fro...\n",
       "12        200478  Better Fancy Canned Sardines,Red Spade Low Fat...\n",
       "17        202989  Landslide Columbian Coffee,High Top Dried Mush...\n",
       "21        205041  Ebony Prepared Salad,Bravo Canned Yams,Moms Sl..."
      ]
     },
     "execution_count": 31,
     "metadata": {},
     "output_type": "execute_result"
    }
   ],
   "source": [
    "often_sold=df[df['Order Number'].duplicated(keep=False)]\n",
    "\n",
    "often_sold['Grouped']=often_sold.groupby('Order Number')['Item'].transform(lambda x: ','.join(x))\n",
    "\n",
    "often_sold = often_sold[['Order Number', 'Grouped']].drop_duplicates()\n",
    "\n",
    "often_sold.head()"
   ]
  },
  {
   "cell_type": "code",
   "execution_count": 32,
   "id": "90918745",
   "metadata": {},
   "outputs": [
    {
     "name": "stdout",
     "output_type": "stream",
     "text": [
      "('Landslide White Sugar', 'Landslide White Sugar') 564\n",
      "('Ebony Prepared Salad', 'Imagine Popsicles') 307\n",
      "('Ebony Prepared Salad', 'Moms Sliced Turkey') 303\n",
      "('Better Fancy Canned Sardines', 'Ebony Prepared Salad') 302\n",
      "('Better Fancy Canned Sardines', 'Imagine Popsicles') 285\n"
     ]
    }
   ],
   "source": [
    "from itertools import combinations\n",
    "from collections import Counter\n",
    "\n",
    "count = Counter()\n",
    "\n",
    "for row in often_sold['Grouped']:\n",
    "    row_list = row.split(',')\n",
    "    count.update(Counter(combinations(row_list, 2)))\n",
    "\n",
    "for key,value in count.most_common(5):\n",
    "    print(key, value)"
   ]
  },
  {
   "cell_type": "markdown",
   "id": "4a58e9c1",
   "metadata": {},
   "source": [
    "## Which is the most expensive item ordered"
   ]
  },
  {
   "cell_type": "code",
   "execution_count": 33,
   "id": "9bb50935",
   "metadata": {},
   "outputs": [
    {
     "data": {
      "text/html": [
       "<div>\n",
       "<style scoped>\n",
       "    .dataframe tbody tr th:only-of-type {\n",
       "        vertical-align: middle;\n",
       "    }\n",
       "\n",
       "    .dataframe tbody tr th {\n",
       "        vertical-align: top;\n",
       "    }\n",
       "\n",
       "    .dataframe thead th {\n",
       "        text-align: right;\n",
       "    }\n",
       "</style>\n",
       "<table border=\"1\" class=\"dataframe\">\n",
       "  <thead>\n",
       "    <tr style=\"text-align: right;\">\n",
       "      <th></th>\n",
       "      <th>Item</th>\n",
       "      <th>Sales Price</th>\n",
       "      <th>Sales Quantity</th>\n",
       "    </tr>\n",
       "  </thead>\n",
       "  <tbody>\n",
       "    <tr>\n",
       "      <th>18267</th>\n",
       "      <td>Atomic Semi-Sweet Chocolate Bar</td>\n",
       "      <td>6035.0</td>\n",
       "      <td>1</td>\n",
       "    </tr>\n",
       "  </tbody>\n",
       "</table>\n",
       "</div>"
      ],
      "text/plain": [
       "                                  Item  Sales Price  Sales Quantity\n",
       "18267  Atomic Semi-Sweet Chocolate Bar       6035.0               1"
      ]
     },
     "execution_count": 33,
     "metadata": {},
     "output_type": "execute_result"
    }
   ],
   "source": [
    "most_expensive=pd.DataFrame(df.sort_values(by = \"Sales Price\", ascending = False))\n",
    "most_expensive = most_expensive[['Item','Sales Price','Sales Quantity']]\n",
    "most_expensive.head(1)"
   ]
  },
  {
   "cell_type": "markdown",
   "id": "2466b92a",
   "metadata": {},
   "source": [
    "## What is the total Revenue"
   ]
  },
  {
   "cell_type": "code",
   "execution_count": 34,
   "id": "4c3e6243",
   "metadata": {},
   "outputs": [
    {
     "name": "stdout",
     "output_type": "stream",
     "text": [
      "Revenue was: $186186367.19\n"
     ]
    }
   ],
   "source": [
    "revenue = (df['Sales Quantity']* df['Sales Price']).sum()\n",
    "print('Revenue was: $' + str(np.round(revenue,2)))"
   ]
  }
 ],
 "metadata": {
  "kernelspec": {
   "display_name": "Python 3",
   "language": "python",
   "name": "python3"
  },
  "language_info": {
   "codemirror_mode": {
    "name": "ipython",
    "version": 3
   },
   "file_extension": ".py",
   "mimetype": "text/x-python",
   "name": "python",
   "nbconvert_exporter": "python",
   "pygments_lexer": "ipython3",
   "version": "3.8.8"
  }
 },
 "nbformat": 4,
 "nbformat_minor": 5
}
